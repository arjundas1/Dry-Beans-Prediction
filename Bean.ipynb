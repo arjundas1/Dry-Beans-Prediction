{
 "cells": [
  {
   "cell_type": "raw",
   "metadata": {},
   "source": [
    "Importing libraries"
   ]
  },
  {
   "cell_type": "code",
   "execution_count": 1,
   "metadata": {},
   "outputs": [],
   "source": [
    "import numpy as np\n",
    "import pandas as pd\n",
    "import sklearn\n",
    "import pickle\n",
    "from sklearn.linear_model import LogisticRegression\n",
    "from sklearn.neighbors import KNeighborsClassifier\n",
    "from sklearn import preprocessing, svm, metrics\n",
    "from sklearn.cluster import KMeans"
   ]
  },
  {
   "cell_type": "raw",
   "metadata": {},
   "source": [
    "Reading and preprocessing the dataset"
   ]
  },
  {
   "cell_type": "code",
   "execution_count": 3,
   "metadata": {},
   "outputs": [
    {
     "name": "stdout",
     "output_type": "stream",
     "text": [
      "    Area  Perimeter  MajorAxisLength  MinorAxisLength  AspectRation  \\\n",
      "0  28395    610.291       208.178117       173.888747      1.197191   \n",
      "1  28734    638.018       200.524796       182.734419      1.097356   \n",
      "2  29380    624.110       212.826130       175.931143      1.209713   \n",
      "3  30008    645.884       210.557999       182.516516      1.153638   \n",
      "4  30140    620.134       201.847882       190.279279      1.060798   \n",
      "\n",
      "   Eccentricity  ConvexArea  EquivDiameter    Extent  Solidity  roundness  \\\n",
      "0      0.549812       28715     190.141097  0.763923  0.988856   0.958027   \n",
      "1      0.411785       29172     191.272751  0.783968  0.984986   0.887034   \n",
      "2      0.562727       29690     193.410904  0.778113  0.989559   0.947849   \n",
      "3      0.498616       30724     195.467062  0.782681  0.976696   0.903936   \n",
      "4      0.333680       30417     195.896503  0.773098  0.990893   0.984877   \n",
      "\n",
      "   Compactness  ShapeFactor1  ShapeFactor2  ShapeFactor3  ShapeFactor4  Class  \n",
      "0     0.913358      0.007332      0.003147      0.834222      0.998724  SEKER  \n",
      "1     0.953861      0.006979      0.003564      0.909851      0.998430  SEKER  \n",
      "2     0.908774      0.007244      0.003048      0.825871      0.999066  SEKER  \n",
      "3     0.928329      0.007017      0.003215      0.861794      0.994199  SEKER  \n",
      "4     0.970516      0.006697      0.003665      0.941900      0.999166  SEKER  \n"
     ]
    }
   ],
   "source": [
    "data = pd.read_csv(\"C:/Users/Arjun/PycharmProjects/DataScience/Mutiple Regression/Dry Bean.csv\", sep=\",\")\n",
    "print(data.head())\n",
    "le = preprocessing.LabelEncoder()\n",
    "cls = le.fit_transform(list(data[\"Class\"]))\n",
    "y = list(cls)\n",
    "x = data[[\"Perimeter\", \"MajorAxisLength\", \"MinorAxisLength\", \"EquivDiameter\", \n",
    "          \"Solidity\", \"roundness\", \"ShapeFactor1\", \"ShapeFactor2\", \n",
    "          \"ShapeFactor3\", \"ShapeFactor4\"]]"
   ]
  },
  {
   "cell_type": "raw",
   "metadata": {},
   "source": [
    "K NEAREST NEIGHBORS:"
   ]
  },
  {
   "cell_type": "code",
   "execution_count": 4,
   "metadata": {},
   "outputs": [
    {
     "name": "stdout",
     "output_type": "stream",
     "text": [
      "Accuracy using KNN:  94.2 %\n"
     ]
    }
   ],
   "source": [
    "knnbest = 0\n",
    "for _ in range(100):\n",
    "    x_train, x_test, y_train, y_test = sklearn.model_selection.train_test_split(x, y, test_size=0.1)\n",
    "    knnmodel = KNeighborsClassifier(n_neighbors=3)\n",
    "    knnmodel.fit(x_train, y_train)\n",
    "    knnacc = knnmodel.score(x_test, y_test)\n",
    "    if knnacc > knnbest:\n",
    "        knnbest = knnacc\n",
    "        with open(\"KNNBeans.pickle\", \"wb\") as f:\n",
    "            pickle.dump(knnmodel, f)\n",
    "\n",
    "\n",
    "Knnpickle = open(\"KNNBeans.pickle\", \"rb\")\n",
    "knnmodel = pickle.load(Knnpickle)\n",
    "knnacc = knnmodel.score(x_test, y_test)\n",
    "print(\"Accuracy using KNN: \", round(knnacc*100, 2), \"%\")"
   ]
  },
  {
   "cell_type": "raw",
   "metadata": {},
   "source": [
    "SUPPORT VECTOR MACHINE:"
   ]
  },
  {
   "cell_type": "code",
   "execution_count": 5,
   "metadata": {},
   "outputs": [
    {
     "name": "stdout",
     "output_type": "stream",
     "text": [
      "Accuracy using SVM:  91.85 %\n"
     ]
    }
   ],
   "source": [
    "svmbest = 0\n",
    "for _ in range(100):\n",
    "    x_train, x_test, y_train, y_test = sklearn.model_selection.train_test_split(x, y, test_size=0.1)\n",
    "    svmmodel = svm.SVC(kernel=\"linear\", C=1)\n",
    "    svmmodel.fit(x_train, y_train)\n",
    "    y_pred = svmmodel.predict(x_test)\n",
    "    svmacc = metrics.accuracy_score(y_test, y_pred)\n",
    "    if svmacc > svmbest:\n",
    "        svmbest = svmacc\n",
    "        with open(\"SVMBeans.pickle\", \"wb\") as f:\n",
    "            pickle.dump(svmmodel, f)\n",
    "\n",
    "\n",
    "Svmpickle = open(\"SVMBeans.pickle\", \"rb\")\n",
    "svmmodel = pickle.load(Svmpickle)\n",
    "svmmodel.fit(x_train, y_train)\n",
    "y_pred = svmmodel.predict(x_test)\n",
    "svmacc = metrics.accuracy_score(y_test, y_pred)\n",
    "print(\"Accuracy using SVM: \", round(svmacc*100, 2), \"%\")"
   ]
  },
  {
   "cell_type": "raw",
   "metadata": {},
   "source": [
    "LOGISTIC REGRESSION:"
   ]
  },
  {
   "cell_type": "code",
   "execution_count": 6,
   "metadata": {},
   "outputs": [
    {
     "name": "stdout",
     "output_type": "stream",
     "text": [
      "Accuracy using Logistic Regression:  88.03 %\n"
     ]
    }
   ],
   "source": [
    "lrbest = 0\n",
    "for _ in range(100):\n",
    "    x_train, x_test, y_train, y_test = sklearn.model_selection.train_test_split(x, y, test_size=0.1)\n",
    "    lr = LogisticRegression(solver=\"liblinear\")\n",
    "    lrmodel = lr.fit(x_train, y_train)\n",
    "    lracc = lr.score(x_test, y_test)\n",
    "    if lracc > lrbest:\n",
    "        lrbest = lracc\n",
    "        with open(\"LoReBeans.pickle\", \"wb\") as f:\n",
    "            pickle.dump(lrmodel, f)\n",
    "\n",
    "\n",
    "Lrpickle = open(\"SVMBeans.pickle\", \"rb\")\n",
    "lrmodel = pickle.load(Lrpickle)\n",
    "lracc = lr.score(x_test, y_test)\n",
    "print(\"Accuracy using Logistic Regression: \", round(lracc*100, 2), \"%\")"
   ]
  }
 ],
 "metadata": {
  "kernelspec": {
   "display_name": "Python 3",
   "language": "python",
   "name": "python3"
  },
  "language_info": {
   "codemirror_mode": {
    "name": "ipython",
    "version": 3
   },
   "file_extension": ".py",
   "mimetype": "text/x-python",
   "name": "python",
   "nbconvert_exporter": "python",
   "pygments_lexer": "ipython3",
   "version": "3.8.3"
  }
 },
 "nbformat": 4,
 "nbformat_minor": 4
}

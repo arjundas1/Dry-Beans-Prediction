{
  "nbformat": 4,
  "nbformat_minor": 0,
  "metadata": {
    "colab": {
      "name": "Beans.ipynb",
      "provenance": [],
      "authorship_tag": "ABX9TyMuv+DnjHL1y1yB3XS4C3bz",
      "include_colab_link": true
    },
    "kernelspec": {
      "name": "python3",
      "display_name": "Python 3"
    },
    "language_info": {
      "name": "python"
    }
  },
  "cells": [
    {
      "cell_type": "markdown",
      "metadata": {
        "id": "view-in-github",
        "colab_type": "text"
      },
      "source": [
        "<a href=\"https://colab.research.google.com/github/arjundas1/Dry-Beans-Prediction/blob/main/Beans.ipynb\" target=\"_parent\"><img src=\"https://colab.research.google.com/assets/colab-badge.svg\" alt=\"Open In Colab\"/></a>"
      ]
    },
    {
      "cell_type": "markdown",
      "metadata": {
        "id": "OLQxSRbphFet"
      },
      "source": [
        "Importing libraries"
      ]
    },
    {
      "cell_type": "code",
      "metadata": {
        "id": "0UB_WCTiTttj"
      },
      "source": [
        "import numpy as np\n",
        "import pandas as pd\n",
        "import sklearn\n",
        "import pickle\n",
        "from sklearn.linear_model import LogisticRegression\n",
        "from sklearn.neighbors import KNeighborsClassifier\n",
        "from sklearn import preprocessing, svm, metrics\n",
        "from sklearn.cluster import KMeans"
      ],
      "execution_count": null,
      "outputs": []
    },
    {
      "cell_type": "markdown",
      "metadata": {
        "id": "Ni8a4eaOhNdr"
      },
      "source": [
        "Reading and preprocessing the dataset"
      ]
    },
    {
      "cell_type": "code",
      "metadata": {
        "id": "M5PN5yUyUAZv",
        "colab": {
          "base_uri": "https://localhost:8080/"
        },
        "outputId": "ebfce69d-f5dd-45dc-dd4e-c9230c69db1a"
      },
      "source": [
        "data = pd.read_csv(\"Dry Bean.csv\", sep=\",\")\n",
        "print(data.head())\n",
        "le = preprocessing.LabelEncoder()\n",
        "cls = le.fit_transform(list(data[\"Class\"]))\n",
        "y = list(cls)\n",
        "x = data[[\"Perimeter\", \"MajorAxisLength\", \"MinorAxisLength\", \"EquivDiameter\", \n",
        "          \"Solidity\", \"roundness\", \"ShapeFactor1\", \"ShapeFactor2\", \n",
        "          \"ShapeFactor3\", \"ShapeFactor4\"]]"
      ],
      "execution_count": null,
      "outputs": [
        {
          "output_type": "stream",
          "text": [
            "    Area  Perimeter  MajorAxisLength  ...  ShapeFactor3  ShapeFactor4  Class\n",
            "0  28395    610.291       208.178117  ...      0.834222      0.998724  SEKER\n",
            "1  28734    638.018       200.524796  ...      0.909851      0.998430  SEKER\n",
            "2  29380    624.110       212.826130  ...      0.825871      0.999066  SEKER\n",
            "3  30008    645.884       210.557999  ...      0.861794      0.994199  SEKER\n",
            "4  30140    620.134       201.847882  ...      0.941900      0.999166  SEKER\n",
            "\n",
            "[5 rows x 17 columns]\n"
          ],
          "name": "stdout"
        }
      ]
    },
    {
      "cell_type": "markdown",
      "metadata": {
        "id": "LKy4F6mIhSDA"
      },
      "source": [
        "K NEAREST NEIGHBORS:"
      ]
    },
    {
      "cell_type": "code",
      "metadata": {
        "id": "yPxC74yjUHXg",
        "colab": {
          "base_uri": "https://localhost:8080/"
        },
        "outputId": "ae96fdab-365d-4bb9-b500-6604fd206996"
      },
      "source": [
        "knnbest = 0\n",
        "for _ in range(100):\n",
        "    x_train, x_test, y_train, y_test = sklearn.model_selection.train_test_split(x, y, test_size=0.1)\n",
        "    knnmodel = KNeighborsClassifier(n_neighbors=3)\n",
        "    knnmodel.fit(x_train, y_train)\n",
        "    knnacc = knnmodel.score(x_test, y_test)\n",
        "    if knnacc > knnbest:\n",
        "        knnbest = knnacc\n",
        "        with open(\"KNNBeans.pickle\", \"wb\") as f:\n",
        "            pickle.dump(knnmodel, f)\n",
        "\n",
        "\n",
        "Knnpickle = open(\"KNNBeans.pickle\", \"rb\")\n",
        "knnmodel = pickle.load(Knnpickle)\n",
        "knnacc = knnmodel.score(x_test, y_test)\n",
        "print(\"Accuracy using KNN: \", round(knnacc*100, 2), \"%\")"
      ],
      "execution_count": null,
      "outputs": [
        {
          "output_type": "stream",
          "text": [
            "Accuracy using KNN:  93.61 %\n"
          ],
          "name": "stdout"
        }
      ]
    },
    {
      "cell_type": "markdown",
      "metadata": {
        "id": "GNU9H1iahXAb"
      },
      "source": [
        "Support Vector Machines algorithm"
      ]
    },
    {
      "cell_type": "code",
      "metadata": {
        "id": "o8dq39YfUNEv",
        "colab": {
          "base_uri": "https://localhost:8080/"
        },
        "outputId": "c857e887-3f99-4219-da80-91edbeb2735d"
      },
      "source": [
        "svmbest = 0\n",
        "for _ in range(100):\n",
        "    x_train, x_test, y_train, y_test = sklearn.model_selection.train_test_split(x, y, test_size=0.1)\n",
        "    svmmodel = svm.SVC(kernel=\"linear\", C=1)\n",
        "    svmmodel.fit(x_train, y_train)\n",
        "    y_pred = svmmodel.predict(x_test)\n",
        "    svmacc = metrics.accuracy_score(y_test, y_pred)\n",
        "    if svmacc > svmbest:\n",
        "        svmbest = svmacc\n",
        "        with open(\"SVMBeans.pickle\", \"wb\") as f:\n",
        "            pickle.dump(svmmodel, f)\n",
        "\n",
        "\n",
        "Svmpickle = open(\"SVMBeans.pickle\", \"rb\")\n",
        "svmmodel = pickle.load(Svmpickle)\n",
        "svmmodel.fit(x_train, y_train)\n",
        "y_pred = svmmodel.predict(x_test)\n",
        "svmacc = metrics.accuracy_score(y_test, y_pred)\n",
        "print(\"Accuracy using SVM: \", round(svmacc*100, 2), \"%\")"
      ],
      "execution_count": null,
      "outputs": [
        {
          "output_type": "stream",
          "text": [
            "Accuracy using SVM:  91.48 %\n"
          ],
          "name": "stdout"
        }
      ]
    },
    {
      "cell_type": "markdown",
      "metadata": {
        "id": "ktL1Si6aheRe"
      },
      "source": [
        "Logistic Regression algorithm"
      ]
    },
    {
      "cell_type": "code",
      "metadata": {
        "id": "MQ_rvH-YhkcW",
        "colab": {
          "base_uri": "https://localhost:8080/"
        },
        "outputId": "68359e94-27b3-45bb-e85d-2d10416687eb"
      },
      "source": [
        "lrbest = 0\n",
        "for _ in range(100):\n",
        "    x_train, x_test, y_train, y_test = sklearn.model_selection.train_test_split(x, y, test_size=0.1)\n",
        "    lr = LogisticRegression(solver=\"liblinear\")\n",
        "    lrmodel = lr.fit(x_train, y_train)\n",
        "    lracc = lr.score(x_test, y_test)\n",
        "    if lracc > lrbest:\n",
        "        lrbest = lracc\n",
        "        with open(\"LoReBeans.pickle\", \"wb\") as f:\n",
        "            pickle.dump(lrmodel, f)\n",
        "\n",
        "\n",
        "Lrpickle = open(\"SVMBeans.pickle\", \"rb\")\n",
        "lrmodel = pickle.load(Lrpickle)\n",
        "lracc = lr.score(x_test, y_test)\n",
        "print(\"Accuracy using Logistic Regression: \", round(lracc*100, 2), \"%\")"
      ],
      "execution_count": null,
      "outputs": [
        {
          "output_type": "stream",
          "text": [
            "Accuracy using Logistic Regression:  88.25 %\n"
          ],
          "name": "stdout"
        }
      ]
    }
  ]
}